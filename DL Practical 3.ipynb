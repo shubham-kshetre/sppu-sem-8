{
 "cells": [
  {
   "cell_type": "code",
   "execution_count": null,
   "id": "054a6d50-31cd-44e0-9da0-a4137baccf21",
   "metadata": {},
   "outputs": [],
   "source": [
    "import tensorflow as tf\n",
    "import matplotlib.pyplot as plt \n",
    "from tensorflow import keras \n",
    "from keras.models import Model \n",
    "import numpy as np"
   ]
  },
  {
   "cell_type": "code",
   "execution_count": null,
   "id": "cb47e657-91a9-41aa-ac50-99c5b42358c2",
   "metadata": {},
   "outputs": [],
   "source": [
    "(x_train,y_train),(x_test,y_test)=keras.datasets.fashion_mnist.load_data()"
   ]
  },
  {
   "cell_type": "code",
   "execution_count": null,
   "id": "a7aa106e-80a5-416c-a68a-edd924865f21",
   "metadata": {},
   "outputs": [],
   "source": [
    "plt.imshow(x_train[1])"
   ]
  },
  {
   "cell_type": "code",
   "execution_count": null,
   "id": "1a83715b-8b55-4388-9bf5-fc915d3b8f57",
   "metadata": {},
   "outputs": [],
   "source": [
    "plt.imshow(x_train[0])"
   ]
  },
  {
   "cell_type": "code",
   "execution_count": null,
   "id": "e423a43f-5855-4858-b746-903ee5f5618f",
   "metadata": {},
   "outputs": [],
   "source": [
    "x_train=x_train.astype('float32')/255.0\n",
    "x_test=x_test.astype('float32')/255.0 \n",
    "x_train=x_train.reshape(-1,28,28,1) \n",
    "x_test=x_test.reshape(-1,28,28,1)"
   ]
  },
  {
   "cell_type": "code",
   "execution_count": null,
   "id": "70156b77-1cc5-4f6f-9683-7c2f6c21d352",
   "metadata": {},
   "outputs": [],
   "source": [
    "x_train.shape"
   ]
  },
  {
   "cell_type": "code",
   "execution_count": null,
   "id": "c3478526-037d-4e04-a000-783da76f56bb",
   "metadata": {},
   "outputs": [],
   "source": [
    "x_test.shape"
   ]
  },
  {
   "cell_type": "code",
   "execution_count": null,
   "id": "86390da5-6f01-4a30-a259-5784e50fe7b0",
   "metadata": {},
   "outputs": [],
   "source": [
    "y_train.shape"
   ]
  },
  {
   "cell_type": "code",
   "execution_count": null,
   "id": "25f1656e-7e7f-4e7c-a56b-b598bda2c6da",
   "metadata": {},
   "outputs": [],
   "source": [
    "y_test.shape"
   ]
  },
  {
   "cell_type": "code",
   "execution_count": null,
   "id": "02eb4aa8-5c85-47fb-86ff-72b741e800a8",
   "metadata": {},
   "outputs": [],
   "source": [
    "model=keras.Sequential([ \n",
    "    keras.layers.Conv2D(32,(3,3),activation='relu',input_shape=(28,28,1)), \n",
    "    keras.layers.MaxPooling2D((2,2)),\n",
    "    keras.layers.Dropout(0.25), \n",
    "    keras.layers.Conv2D(64,(3,3),activation='relu'), \n",
    "    keras.layers.MaxPooling2D((2,2)), \n",
    "    keras.layers.Dropout(0.25), \n",
    "    keras.layers.Conv2D(128,(3,3),activation='relu'), \n",
    "    keras.layers.Flatten(), \n",
    "    keras.layers.Dense(128,activation='softmax')\n",
    "])\n",
    "model.summary()"
   ]
  },
  {
   "cell_type": "code",
   "execution_count": null,
   "id": "1cbd2f02-ffc6-4a0f-87af-8c7e4fc1ea20",
   "metadata": {
    "scrolled": true
   },
   "outputs": [],
   "source": [
    "model.compile(optimizer='adam',loss='sparse_categorical_crossentropy',metrics=['accuracy'])\n",
    "history=model.fit(x_train,y_train,epochs=10,validation_data=(x_test,y_test))\n",
    "test_acc=model.evaluate(x_test,y_test) \n",
    "print('Test accuracy:',test_acc)"
   ]
  }
 ],
 "metadata": {
  "kernelspec": {
   "display_name": "Python 3 (ipykernel)",
   "language": "python",
   "name": "python3"
  },
  "language_info": {
   "codemirror_mode": {
    "name": "ipython",
    "version": 3
   },
   "file_extension": ".py",
   "mimetype": "text/x-python",
   "name": "python",
   "nbconvert_exporter": "python",
   "pygments_lexer": "ipython3",
   "version": "3.11.7"
  }
 },
 "nbformat": 4,
 "nbformat_minor": 5
}
